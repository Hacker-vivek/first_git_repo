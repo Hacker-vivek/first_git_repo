{
 "cells": [
  {
   "cell_type": "markdown",
   "metadata": {
    "papermill": {
     "duration": 0.034371,
     "end_time": "2022-03-11T16:48:36.347131",
     "exception": false,
     "start_time": "2022-03-11T16:48:36.312760",
     "status": "completed"
    },
    "tags": []
   },
   "source": [
    "#  Loading Data"
   ]
  },
  {
   "cell_type": "code",
   "execution_count": 1,
   "metadata": {
    "_cell_guid": "b1076dfc-b9ad-4769-8c92-a6c4dae69d19",
    "_uuid": "8f2839f25d086af736a60e9eeb907d3b93b6e0e5",
    "execution": {
     "iopub.execute_input": "2022-03-11T16:48:36.416906Z",
     "iopub.status.busy": "2022-03-11T16:48:36.416179Z",
     "iopub.status.idle": "2022-03-11T16:48:36.431473Z",
     "shell.execute_reply": "2022-03-11T16:48:36.432033Z",
     "shell.execute_reply.started": "2022-03-11T16:43:01.345513Z"
    },
    "papermill": {
     "duration": 0.051821,
     "end_time": "2022-03-11T16:48:36.432259",
     "exception": false,
     "start_time": "2022-03-11T16:48:36.380438",
     "status": "completed"
    },
    "tags": []
   },
   "outputs": [
    {
     "name": "stdout",
     "output_type": "stream",
     "text": [
      "/kaggle/input/hotel-booking-demand/hotel_bookings.csv\n"
     ]
    }
   ],
   "source": [
    "# This Python 3 environment comes with many helpful analytics libraries installed\n",
    "# It is defined by the kaggle/python Docker image: https://github.com/kaggle/docker-python\n",
    "# For example, here's several helpful packages to load\n",
    "\n",
    "import numpy as np # linear algebra\n",
    "import pandas as pd # data processing, CSV file I/O (e.g. pd.read_csv)\n",
    "\n",
    "# Input data files are available in the read-only \"../input/\" directory\n",
    "# For example, running this (by clicking run or pressing Shift+Enter) will list all files under the input directory\n",
    "\n",
    "import os\n",
    "for dirname, _, filenames in os.walk('/kaggle/input'):\n",
    "    for filename in filenames:\n",
    "        print(os.path.join(dirname, filename))\n",
    "\n",
    "# You can write up to 20GB to the current directory (/kaggle/working/) that gets preserved as output when you create a version using \"Save & Run All\" \n",
    "# You can also write temporary files to /kaggle/temp/, but they won't be saved outside of the current session"
   ]
  },
  {
   "cell_type": "code",
   "execution_count": 2,
   "metadata": {
    "execution": {
     "iopub.execute_input": "2022-03-11T16:48:36.501564Z",
     "iopub.status.busy": "2022-03-11T16:48:36.500870Z",
     "iopub.status.idle": "2022-03-11T16:48:37.114673Z",
     "shell.execute_reply": "2022-03-11T16:48:37.113805Z"
    },
    "papermill": {
     "duration": 0.649256,
     "end_time": "2022-03-11T16:48:37.114817",
     "exception": false,
     "start_time": "2022-03-11T16:48:36.465561",
     "status": "completed"
    },
    "tags": []
   },
   "outputs": [],
   "source": [
    "df = pd.read_csv('../input/hotel-booking-demand/hotel_bookings.csv')"
   ]
  },
  {
   "cell_type": "markdown",
   "metadata": {
    "papermill": {
     "duration": 0.032332,
     "end_time": "2022-03-11T16:48:37.180144",
     "exception": false,
     "start_time": "2022-03-11T16:48:37.147812",
     "status": "completed"
    },
    "tags": []
   },
   "source": [
    "#  Exploring & Preparing Data"
   ]
  },
  {
   "cell_type": "code",
   "execution_count": 3,
   "metadata": {
    "execution": {
     "iopub.execute_input": "2022-03-11T16:48:37.253208Z",
     "iopub.status.busy": "2022-03-11T16:48:37.252491Z",
     "iopub.status.idle": "2022-03-11T16:48:37.255754Z",
     "shell.execute_reply": "2022-03-11T16:48:37.256263Z",
     "shell.execute_reply.started": "2022-03-11T16:43:01.980676Z"
    },
    "papermill": {
     "duration": 0.043138,
     "end_time": "2022-03-11T16:48:37.256433",
     "exception": false,
     "start_time": "2022-03-11T16:48:37.213295",
     "status": "completed"
    },
    "tags": []
   },
   "outputs": [
    {
     "data": {
      "text/plain": [
       "(119390, 32)"
      ]
     },
     "execution_count": 3,
     "metadata": {},
     "output_type": "execute_result"
    }
   ],
   "source": [
    "df.shape"
   ]
  },
  {
   "cell_type": "code",
   "execution_count": 4,
   "metadata": {
    "execution": {
     "iopub.execute_input": "2022-03-11T16:48:37.327835Z",
     "iopub.status.busy": "2022-03-11T16:48:37.327047Z",
     "iopub.status.idle": "2022-03-11T16:48:37.369028Z",
     "shell.execute_reply": "2022-03-11T16:48:37.369638Z",
     "shell.execute_reply.started": "2022-03-11T16:43:01.991604Z"
    },
    "papermill": {
     "duration": 0.079249,
     "end_time": "2022-03-11T16:48:37.369803",
     "exception": false,
     "start_time": "2022-03-11T16:48:37.290554",
     "status": "completed"
    },
    "tags": []
   },
   "outputs": [
    {
     "data": {
      "text/html": [
       "<div>\n",
       "<style scoped>\n",
       "    .dataframe tbody tr th:only-of-type {\n",
       "        vertical-align: middle;\n",
       "    }\n",
       "\n",
       "    .dataframe tbody tr th {\n",
       "        vertical-align: top;\n",
       "    }\n",
       "\n",
       "    .dataframe thead th {\n",
       "        text-align: right;\n",
       "    }\n",
       "</style>\n",
       "<table border=\"1\" class=\"dataframe\">\n",
       "  <thead>\n",
       "    <tr style=\"text-align: right;\">\n",
       "      <th></th>\n",
       "      <th>hotel</th>\n",
       "      <th>is_canceled</th>\n",
       "      <th>lead_time</th>\n",
       "      <th>arrival_date_year</th>\n",
       "      <th>arrival_date_month</th>\n",
       "      <th>arrival_date_week_number</th>\n",
       "      <th>arrival_date_day_of_month</th>\n",
       "      <th>stays_in_weekend_nights</th>\n",
       "      <th>stays_in_week_nights</th>\n",
       "      <th>adults</th>\n",
       "      <th>...</th>\n",
       "      <th>deposit_type</th>\n",
       "      <th>agent</th>\n",
       "      <th>company</th>\n",
       "      <th>days_in_waiting_list</th>\n",
       "      <th>customer_type</th>\n",
       "      <th>adr</th>\n",
       "      <th>required_car_parking_spaces</th>\n",
       "      <th>total_of_special_requests</th>\n",
       "      <th>reservation_status</th>\n",
       "      <th>reservation_status_date</th>\n",
       "    </tr>\n",
       "  </thead>\n",
       "  <tbody>\n",
       "    <tr>\n",
       "      <th>0</th>\n",
       "      <td>Resort Hotel</td>\n",
       "      <td>0</td>\n",
       "      <td>342</td>\n",
       "      <td>2015</td>\n",
       "      <td>July</td>\n",
       "      <td>27</td>\n",
       "      <td>1</td>\n",
       "      <td>0</td>\n",
       "      <td>0</td>\n",
       "      <td>2</td>\n",
       "      <td>...</td>\n",
       "      <td>No Deposit</td>\n",
       "      <td>NaN</td>\n",
       "      <td>NaN</td>\n",
       "      <td>0</td>\n",
       "      <td>Transient</td>\n",
       "      <td>0.0</td>\n",
       "      <td>0</td>\n",
       "      <td>0</td>\n",
       "      <td>Check-Out</td>\n",
       "      <td>2015-07-01</td>\n",
       "    </tr>\n",
       "    <tr>\n",
       "      <th>1</th>\n",
       "      <td>Resort Hotel</td>\n",
       "      <td>0</td>\n",
       "      <td>737</td>\n",
       "      <td>2015</td>\n",
       "      <td>July</td>\n",
       "      <td>27</td>\n",
       "      <td>1</td>\n",
       "      <td>0</td>\n",
       "      <td>0</td>\n",
       "      <td>2</td>\n",
       "      <td>...</td>\n",
       "      <td>No Deposit</td>\n",
       "      <td>NaN</td>\n",
       "      <td>NaN</td>\n",
       "      <td>0</td>\n",
       "      <td>Transient</td>\n",
       "      <td>0.0</td>\n",
       "      <td>0</td>\n",
       "      <td>0</td>\n",
       "      <td>Check-Out</td>\n",
       "      <td>2015-07-01</td>\n",
       "    </tr>\n",
       "    <tr>\n",
       "      <th>2</th>\n",
       "      <td>Resort Hotel</td>\n",
       "      <td>0</td>\n",
       "      <td>7</td>\n",
       "      <td>2015</td>\n",
       "      <td>July</td>\n",
       "      <td>27</td>\n",
       "      <td>1</td>\n",
       "      <td>0</td>\n",
       "      <td>1</td>\n",
       "      <td>1</td>\n",
       "      <td>...</td>\n",
       "      <td>No Deposit</td>\n",
       "      <td>NaN</td>\n",
       "      <td>NaN</td>\n",
       "      <td>0</td>\n",
       "      <td>Transient</td>\n",
       "      <td>75.0</td>\n",
       "      <td>0</td>\n",
       "      <td>0</td>\n",
       "      <td>Check-Out</td>\n",
       "      <td>2015-07-02</td>\n",
       "    </tr>\n",
       "    <tr>\n",
       "      <th>3</th>\n",
       "      <td>Resort Hotel</td>\n",
       "      <td>0</td>\n",
       "      <td>13</td>\n",
       "      <td>2015</td>\n",
       "      <td>July</td>\n",
       "      <td>27</td>\n",
       "      <td>1</td>\n",
       "      <td>0</td>\n",
       "      <td>1</td>\n",
       "      <td>1</td>\n",
       "      <td>...</td>\n",
       "      <td>No Deposit</td>\n",
       "      <td>304.0</td>\n",
       "      <td>NaN</td>\n",
       "      <td>0</td>\n",
       "      <td>Transient</td>\n",
       "      <td>75.0</td>\n",
       "      <td>0</td>\n",
       "      <td>0</td>\n",
       "      <td>Check-Out</td>\n",
       "      <td>2015-07-02</td>\n",
       "    </tr>\n",
       "    <tr>\n",
       "      <th>4</th>\n",
       "      <td>Resort Hotel</td>\n",
       "      <td>0</td>\n",
       "      <td>14</td>\n",
       "      <td>2015</td>\n",
       "      <td>July</td>\n",
       "      <td>27</td>\n",
       "      <td>1</td>\n",
       "      <td>0</td>\n",
       "      <td>2</td>\n",
       "      <td>2</td>\n",
       "      <td>...</td>\n",
       "      <td>No Deposit</td>\n",
       "      <td>240.0</td>\n",
       "      <td>NaN</td>\n",
       "      <td>0</td>\n",
       "      <td>Transient</td>\n",
       "      <td>98.0</td>\n",
       "      <td>0</td>\n",
       "      <td>1</td>\n",
       "      <td>Check-Out</td>\n",
       "      <td>2015-07-03</td>\n",
       "    </tr>\n",
       "  </tbody>\n",
       "</table>\n",
       "<p>5 rows × 32 columns</p>\n",
       "</div>"
      ],
      "text/plain": [
       "          hotel  is_canceled  lead_time  arrival_date_year arrival_date_month  \\\n",
       "0  Resort Hotel            0        342               2015               July   \n",
       "1  Resort Hotel            0        737               2015               July   \n",
       "2  Resort Hotel            0          7               2015               July   \n",
       "3  Resort Hotel            0         13               2015               July   \n",
       "4  Resort Hotel            0         14               2015               July   \n",
       "\n",
       "   arrival_date_week_number  arrival_date_day_of_month  \\\n",
       "0                        27                          1   \n",
       "1                        27                          1   \n",
       "2                        27                          1   \n",
       "3                        27                          1   \n",
       "4                        27                          1   \n",
       "\n",
       "   stays_in_weekend_nights  stays_in_week_nights  adults  ...  deposit_type  \\\n",
       "0                        0                     0       2  ...    No Deposit   \n",
       "1                        0                     0       2  ...    No Deposit   \n",
       "2                        0                     1       1  ...    No Deposit   \n",
       "3                        0                     1       1  ...    No Deposit   \n",
       "4                        0                     2       2  ...    No Deposit   \n",
       "\n",
       "   agent company days_in_waiting_list customer_type   adr  \\\n",
       "0    NaN     NaN                    0     Transient   0.0   \n",
       "1    NaN     NaN                    0     Transient   0.0   \n",
       "2    NaN     NaN                    0     Transient  75.0   \n",
       "3  304.0     NaN                    0     Transient  75.0   \n",
       "4  240.0     NaN                    0     Transient  98.0   \n",
       "\n",
       "   required_car_parking_spaces  total_of_special_requests  reservation_status  \\\n",
       "0                            0                          0           Check-Out   \n",
       "1                            0                          0           Check-Out   \n",
       "2                            0                          0           Check-Out   \n",
       "3                            0                          0           Check-Out   \n",
       "4                            0                          1           Check-Out   \n",
       "\n",
       "  reservation_status_date  \n",
       "0              2015-07-01  \n",
       "1              2015-07-01  \n",
       "2              2015-07-02  \n",
       "3              2015-07-02  \n",
       "4              2015-07-03  \n",
       "\n",
       "[5 rows x 32 columns]"
      ]
     },
     "execution_count": 4,
     "metadata": {},
     "output_type": "execute_result"
    }
   ],
   "source": [
    "df.head()"
   ]
  },
  {
   "cell_type": "code",
   "execution_count": 5,
   "metadata": {
    "execution": {
     "iopub.execute_input": "2022-03-11T16:48:37.441739Z",
     "iopub.status.busy": "2022-03-11T16:48:37.440700Z",
     "iopub.status.idle": "2022-03-11T16:48:37.612807Z",
     "shell.execute_reply": "2022-03-11T16:48:37.613391Z",
     "shell.execute_reply.started": "2022-03-11T16:43:02.043880Z"
    },
    "papermill": {
     "duration": 0.209781,
     "end_time": "2022-03-11T16:48:37.613564",
     "exception": false,
     "start_time": "2022-03-11T16:48:37.403783",
     "status": "completed"
    },
    "tags": []
   },
   "outputs": [
    {
     "data": {
      "text/plain": [
       "hotel                                  0\n",
       "is_canceled                            0\n",
       "lead_time                              0\n",
       "arrival_date_year                      0\n",
       "arrival_date_month                     0\n",
       "arrival_date_week_number               0\n",
       "arrival_date_day_of_month              0\n",
       "stays_in_weekend_nights                0\n",
       "stays_in_week_nights                   0\n",
       "adults                                 0\n",
       "children                               4\n",
       "babies                                 0\n",
       "meal                                   0\n",
       "country                              488\n",
       "market_segment                         0\n",
       "distribution_channel                   0\n",
       "is_repeated_guest                      0\n",
       "previous_cancellations                 0\n",
       "previous_bookings_not_canceled         0\n",
       "reserved_room_type                     0\n",
       "assigned_room_type                     0\n",
       "booking_changes                        0\n",
       "deposit_type                           0\n",
       "agent                              16340\n",
       "company                           112593\n",
       "days_in_waiting_list                   0\n",
       "customer_type                          0\n",
       "adr                                    0\n",
       "required_car_parking_spaces            0\n",
       "total_of_special_requests              0\n",
       "reservation_status                     0\n",
       "reservation_status_date                0\n",
       "dtype: int64"
      ]
     },
     "execution_count": 5,
     "metadata": {},
     "output_type": "execute_result"
    }
   ],
   "source": [
    "df.isnull().sum()"
   ]
  },
  {
   "cell_type": "code",
   "execution_count": 6,
   "metadata": {
    "execution": {
     "iopub.execute_input": "2022-03-11T16:48:37.689102Z",
     "iopub.status.busy": "2022-03-11T16:48:37.688409Z",
     "iopub.status.idle": "2022-03-11T16:48:37.718568Z",
     "shell.execute_reply": "2022-03-11T16:48:37.719183Z",
     "shell.execute_reply.started": "2022-03-11T16:43:02.190323Z"
    },
    "papermill": {
     "duration": 0.071731,
     "end_time": "2022-03-11T16:48:37.719367",
     "exception": false,
     "start_time": "2022-03-11T16:48:37.647636",
     "status": "completed"
    },
    "tags": []
   },
   "outputs": [],
   "source": [
    "# Remove Company Column From The Data\n",
    "df = df.drop('company',axis =1)"
   ]
  },
  {
   "cell_type": "code",
   "execution_count": 7,
   "metadata": {
    "execution": {
     "iopub.execute_input": "2022-03-11T16:48:37.792097Z",
     "iopub.status.busy": "2022-03-11T16:48:37.791053Z",
     "iopub.status.idle": "2022-03-11T16:48:37.833144Z",
     "shell.execute_reply": "2022-03-11T16:48:37.832547Z",
     "shell.execute_reply.started": "2022-03-11T16:43:02.212926Z"
    },
    "papermill": {
     "duration": 0.07964,
     "end_time": "2022-03-11T16:48:37.833337",
     "exception": false,
     "start_time": "2022-03-11T16:48:37.753697",
     "status": "completed"
    },
    "tags": []
   },
   "outputs": [
    {
     "data": {
      "text/plain": [
       "PRT    48590\n",
       "GBR    12129\n",
       "FRA    10415\n",
       "ESP     8568\n",
       "DEU     7287\n",
       "       ...  \n",
       "PLW        1\n",
       "ASM        1\n",
       "MDG        1\n",
       "ATF        1\n",
       "MLI        1\n",
       "Name: country, Length: 177, dtype: int64"
      ]
     },
     "execution_count": 7,
     "metadata": {},
     "output_type": "execute_result"
    }
   ],
   "source": [
    "df['country'].value_counts()"
   ]
  },
  {
   "cell_type": "code",
   "execution_count": 8,
   "metadata": {
    "execution": {
     "iopub.execute_input": "2022-03-11T16:48:37.906865Z",
     "iopub.status.busy": "2022-03-11T16:48:37.905763Z",
     "iopub.status.idle": "2022-03-11T16:48:37.918072Z",
     "shell.execute_reply": "2022-03-11T16:48:37.918744Z",
     "shell.execute_reply.started": "2022-03-11T16:43:02.233956Z"
    },
    "papermill": {
     "duration": 0.051088,
     "end_time": "2022-03-11T16:48:37.918930",
     "exception": false,
     "start_time": "2022-03-11T16:48:37.867842",
     "status": "completed"
    },
    "tags": []
   },
   "outputs": [
    {
     "data": {
      "text/plain": [
       "9.0      31961\n",
       "240.0    13922\n",
       "1.0       7191\n",
       "14.0      3640\n",
       "7.0       3539\n",
       "         ...  \n",
       "213.0        1\n",
       "433.0        1\n",
       "197.0        1\n",
       "367.0        1\n",
       "337.0        1\n",
       "Name: agent, Length: 333, dtype: int64"
      ]
     },
     "execution_count": 8,
     "metadata": {},
     "output_type": "execute_result"
    }
   ],
   "source": [
    "df['agent'].value_counts()"
   ]
  },
  {
   "cell_type": "code",
   "execution_count": 9,
   "metadata": {
    "execution": {
     "iopub.execute_input": "2022-03-11T16:48:37.994768Z",
     "iopub.status.busy": "2022-03-11T16:48:37.993642Z",
     "iopub.status.idle": "2022-03-11T16:48:38.086641Z",
     "shell.execute_reply": "2022-03-11T16:48:38.085207Z",
     "shell.execute_reply.started": "2022-03-11T16:43:02.245659Z"
    },
    "papermill": {
     "duration": 0.132674,
     "end_time": "2022-03-11T16:48:38.086815",
     "exception": false,
     "start_time": "2022-03-11T16:48:37.954141",
     "status": "completed"
    },
    "tags": []
   },
   "outputs": [],
   "source": [
    "df = df.dropna(subset = ['agent'])\n",
    "df = df.dropna(subset = ['children'])"
   ]
  },
  {
   "cell_type": "code",
   "execution_count": 10,
   "metadata": {
    "execution": {
     "iopub.execute_input": "2022-03-11T16:48:38.160295Z",
     "iopub.status.busy": "2022-03-11T16:48:38.159222Z",
     "iopub.status.idle": "2022-03-11T16:48:38.306475Z",
     "shell.execute_reply": "2022-03-11T16:48:38.306986Z",
     "shell.execute_reply.started": "2022-03-11T16:43:02.322544Z"
    },
    "papermill": {
     "duration": 0.185808,
     "end_time": "2022-03-11T16:48:38.307175",
     "exception": false,
     "start_time": "2022-03-11T16:48:38.121367",
     "status": "completed"
    },
    "tags": []
   },
   "outputs": [
    {
     "data": {
      "text/plain": [
       "hotel                               0\n",
       "is_canceled                         0\n",
       "lead_time                           0\n",
       "arrival_date_year                   0\n",
       "arrival_date_month                  0\n",
       "arrival_date_week_number            0\n",
       "arrival_date_day_of_month           0\n",
       "stays_in_weekend_nights             0\n",
       "stays_in_week_nights                0\n",
       "adults                              0\n",
       "children                            0\n",
       "babies                              0\n",
       "meal                                0\n",
       "country                           154\n",
       "market_segment                      0\n",
       "distribution_channel                0\n",
       "is_repeated_guest                   0\n",
       "previous_cancellations              0\n",
       "previous_bookings_not_canceled      0\n",
       "reserved_room_type                  0\n",
       "assigned_room_type                  0\n",
       "booking_changes                     0\n",
       "deposit_type                        0\n",
       "agent                               0\n",
       "days_in_waiting_list                0\n",
       "customer_type                       0\n",
       "adr                                 0\n",
       "required_car_parking_spaces         0\n",
       "total_of_special_requests           0\n",
       "reservation_status                  0\n",
       "reservation_status_date             0\n",
       "dtype: int64"
      ]
     },
     "execution_count": 10,
     "metadata": {},
     "output_type": "execute_result"
    }
   ],
   "source": [
    "df.isnull().sum()"
   ]
  },
  {
   "cell_type": "code",
   "execution_count": 11,
   "metadata": {
    "execution": {
     "iopub.execute_input": "2022-03-11T16:48:38.380322Z",
     "iopub.status.busy": "2022-03-11T16:48:38.379322Z",
     "iopub.status.idle": "2022-03-11T16:48:38.396513Z",
     "shell.execute_reply": "2022-03-11T16:48:38.397039Z",
     "shell.execute_reply.started": "2022-03-11T16:43:02.373400Z"
    },
    "papermill": {
     "duration": 0.055446,
     "end_time": "2022-03-11T16:48:38.397212",
     "exception": false,
     "start_time": "2022-03-11T16:48:38.341766",
     "status": "completed"
    },
    "tags": []
   },
   "outputs": [],
   "source": [
    "df[\"country\"].fillna(\"other country\", inplace = True)"
   ]
  },
  {
   "cell_type": "code",
   "execution_count": 12,
   "metadata": {
    "execution": {
     "iopub.execute_input": "2022-03-11T16:48:38.471230Z",
     "iopub.status.busy": "2022-03-11T16:48:38.470260Z",
     "iopub.status.idle": "2022-03-11T16:48:38.612539Z",
     "shell.execute_reply": "2022-03-11T16:48:38.611932Z",
     "shell.execute_reply.started": "2022-03-11T16:43:02.385321Z"
    },
    "papermill": {
     "duration": 0.179919,
     "end_time": "2022-03-11T16:48:38.612680",
     "exception": false,
     "start_time": "2022-03-11T16:48:38.432761",
     "status": "completed"
    },
    "tags": []
   },
   "outputs": [
    {
     "data": {
      "text/plain": [
       "hotel                             0\n",
       "is_canceled                       0\n",
       "lead_time                         0\n",
       "arrival_date_year                 0\n",
       "arrival_date_month                0\n",
       "arrival_date_week_number          0\n",
       "arrival_date_day_of_month         0\n",
       "stays_in_weekend_nights           0\n",
       "stays_in_week_nights              0\n",
       "adults                            0\n",
       "children                          0\n",
       "babies                            0\n",
       "meal                              0\n",
       "country                           0\n",
       "market_segment                    0\n",
       "distribution_channel              0\n",
       "is_repeated_guest                 0\n",
       "previous_cancellations            0\n",
       "previous_bookings_not_canceled    0\n",
       "reserved_room_type                0\n",
       "assigned_room_type                0\n",
       "booking_changes                   0\n",
       "deposit_type                      0\n",
       "agent                             0\n",
       "days_in_waiting_list              0\n",
       "customer_type                     0\n",
       "adr                               0\n",
       "required_car_parking_spaces       0\n",
       "total_of_special_requests         0\n",
       "reservation_status                0\n",
       "reservation_status_date           0\n",
       "dtype: int64"
      ]
     },
     "execution_count": 12,
     "metadata": {},
     "output_type": "execute_result"
    }
   ],
   "source": [
    "df.isnull().sum()"
   ]
  },
  {
   "cell_type": "code",
   "execution_count": 13,
   "metadata": {
    "execution": {
     "iopub.execute_input": "2022-03-11T16:48:38.689368Z",
     "iopub.status.busy": "2022-03-11T16:48:38.688671Z",
     "iopub.status.idle": "2022-03-11T16:48:40.271634Z",
     "shell.execute_reply": "2022-03-11T16:48:40.272139Z",
     "shell.execute_reply.started": "2022-03-11T16:43:02.520625Z"
    },
    "papermill": {
     "duration": 1.624346,
     "end_time": "2022-03-11T16:48:40.272318",
     "exception": false,
     "start_time": "2022-03-11T16:48:38.647972",
     "status": "completed"
    },
    "tags": []
   },
   "outputs": [
    {
     "data": {
      "image/png": "[encoded data removed]",
      "text/plain": [
       "<Figure size 1440x1080 with 2 Axes>"
      ]
     },
     "metadata": {
      "needs_background": "light"
     },
     "output_type": "display_data"
    }
   ],
   "source": [
    "import seaborn as sns \n",
    "import matplotlib.pyplot as plt \n",
    "plt.figure(figsize=(20,15))\n",
    "ax = sns.heatmap(df.corr())"
   ]
  },
  {
   "cell_type": "markdown",
   "metadata": {
    "papermill": {
     "duration": 0.037266,
     "end_time": "2022-03-11T16:48:40.347440",
     "exception": false,
     "start_time": "2022-03-11T16:48:40.310174",
     "status": "completed"
    },
    "tags": []
   },
   "source": [
    "###  Encodings Data"
   ]
  },
  {
   "cell_type": "code",
   "execution_count": 14,
   "metadata": {
    "execution": {
     "iopub.execute_input": "2022-03-11T16:48:40.426330Z",
     "iopub.status.busy": "2022-03-11T16:48:40.425596Z",
     "iopub.status.idle": "2022-03-11T16:48:40.433618Z",
     "shell.execute_reply": "2022-03-11T16:48:40.434193Z",
     "shell.execute_reply.started": "2022-03-11T16:43:04.136598Z"
    },
    "papermill": {
     "duration": 0.049587,
     "end_time": "2022-03-11T16:48:40.434359",
     "exception": false,
     "start_time": "2022-03-11T16:48:40.384772",
     "status": "completed"
    },
    "tags": []
   },
   "outputs": [
    {
     "data": {
      "text/plain": [
       "hotel                              object\n",
       "is_canceled                         int64\n",
       "lead_time                           int64\n",
       "arrival_date_year                   int64\n",
       "arrival_date_month                 object\n",
       "arrival_date_week_number            int64\n",
       "arrival_date_day_of_month           int64\n",
       "stays_in_weekend_nights             int64\n",
       "stays_in_week_nights                int64\n",
       "adults                              int64\n",
       "children                          float64\n",
       "babies                              int64\n",
       "meal                               object\n",
       "country                            object\n",
       "market_segment                     object\n",
       "distribution_channel               object\n",
       "is_repeated_guest                   int64\n",
       "previous_cancellations              int64\n",
       "previous_bookings_not_canceled      int64\n",
       "reserved_room_type                 object\n",
       "assigned_room_type                 object\n",
       "booking_changes                     int64\n",
       "deposit_type                       object\n",
       "agent                             float64\n",
       "days_in_waiting_list                int64\n",
       "customer_type                      object\n",
       "adr                               float64\n",
       "required_car_parking_spaces         int64\n",
       "total_of_special_requests           int64\n",
       "reservation_status                 object\n",
       "reservation_status_date            object\n",
       "dtype: object"
      ]
     },
     "execution_count": 14,
     "metadata": {},
     "output_type": "execute_result"
    }
   ],
   "source": [
    "df.dtypes"
   ]
  },
  {
   "cell_type": "markdown",
   "metadata": {
    "papermill": {
     "duration": 0.037513,
     "end_time": "2022-03-11T16:48:40.509803",
     "exception": false,
     "start_time": "2022-03-11T16:48:40.472290",
     "status": "completed"
    },
    "tags": []
   },
   "source": [
    "### Change date columns "
   ]
  },
  {
   "cell_type": "code",
   "execution_count": 15,
   "metadata": {
    "execution": {
     "iopub.execute_input": "2022-03-11T16:48:40.590351Z",
     "iopub.status.busy": "2022-03-11T16:48:40.589645Z",
     "iopub.status.idle": "2022-03-11T16:48:40.710859Z",
     "shell.execute_reply": "2022-03-11T16:48:40.710258Z",
     "shell.execute_reply.started": "2022-03-11T16:43:04.147441Z"
    },
    "papermill": {
     "duration": 0.162072,
     "end_time": "2022-03-11T16:48:40.711006",
     "exception": false,
     "start_time": "2022-03-11T16:48:40.548934",
     "status": "completed"
    },
    "tags": []
   },
   "outputs": [],
   "source": [
    "from sklearn.preprocessing import LabelEncoder\n",
    "le = LabelEncoder()\n",
    "df['arrival_date_month'] = le.fit_transform(df['arrival_date_month'])\n"
   ]
  },
  {
   "cell_type": "markdown",
   "metadata": {
    "papermill": {
     "duration": 0.039639,
     "end_time": "2022-03-11T16:48:40.788851",
     "exception": false,
     "start_time": "2022-03-11T16:48:40.749212",
     "status": "completed"
    },
    "tags": []
   },
   "source": [
    "#### Use  OneHotEncoder"
   ]
  },
  {
   "cell_type": "code",
   "execution_count": 16,
   "metadata": {
    "execution": {
     "iopub.execute_input": "2022-03-11T16:48:40.896878Z",
     "iopub.status.busy": "2022-03-11T16:48:40.895759Z",
     "iopub.status.idle": "2022-03-11T16:48:40.902256Z",
     "shell.execute_reply": "2022-03-11T16:48:40.901662Z",
     "shell.execute_reply.started": "2022-03-11T16:43:04.284244Z"
    },
    "papermill": {
     "duration": 0.06773,
     "end_time": "2022-03-11T16:48:40.902402",
     "exception": false,
     "start_time": "2022-03-11T16:48:40.834672",
     "status": "completed"
    },
    "tags": []
   },
   "outputs": [],
   "source": [
    "df_one_hot_encoder = df"
   ]
  },
  {
   "cell_type": "code",
   "execution_count": 17,
   "metadata": {
    "execution": {
     "iopub.execute_input": "2022-03-11T16:48:40.991691Z",
     "iopub.status.busy": "2022-03-11T16:48:40.989979Z",
     "iopub.status.idle": "2022-03-11T16:48:41.646257Z",
     "shell.execute_reply": "2022-03-11T16:48:41.646844Z",
     "shell.execute_reply.started": "2022-03-11T16:43:04.290112Z"
    },
    "papermill": {
     "duration": 0.703951,
     "end_time": "2022-03-11T16:48:41.647030",
     "exception": false,
     "start_time": "2022-03-11T16:48:40.943079",
     "status": "completed"
    },
    "tags": []
   },
   "outputs": [],
   "source": [
    "df_one_hot_encoder = pd.get_dummies(data=df_one_hot_encoder, columns=['hotel', \n",
    "                                                 'meal',\n",
    "                                                'country',\n",
    "                                                 'market_segment',\n",
    "                                                 'distribution_channel',\n",
    "                                                'reserved_room_type',\n",
    "                                                 'assigned_room_type',\n",
    "                                                'deposit_type',\n",
    "                                                'customer_type',\n",
    "                                                'reservation_status',\n",
    "                                                 'reservation_status_date'])"
   ]
  },
  {
   "cell_type": "code",
   "execution_count": 18,
   "metadata": {
    "execution": {
     "iopub.execute_input": "2022-03-11T16:48:41.727276Z",
     "iopub.status.busy": "2022-03-11T16:48:41.726627Z",
     "iopub.status.idle": "2022-03-11T16:48:41.747698Z",
     "shell.execute_reply": "2022-03-11T16:48:41.748193Z",
     "shell.execute_reply.started": "2022-03-11T16:43:04.737709Z"
    },
    "papermill": {
     "duration": 0.063309,
     "end_time": "2022-03-11T16:48:41.748380",
     "exception": false,
     "start_time": "2022-03-11T16:48:41.685071",
     "status": "completed"
    },
    "tags": []
   },
   "outputs": [
    {
     "data": {
      "text/html": [
       "<div>\n",
       "<style scoped>\n",
       "    .dataframe tbody tr th:only-of-type {\n",
       "        vertical-align: middle;\n",
       "    }\n",
       "\n",
       "    .dataframe tbody tr th {\n",
       "        vertical-align: top;\n",
       "    }\n",
       "\n",
       "    .dataframe thead th {\n",
       "        text-align: right;\n",
       "    }\n",
       "</style>\n",
       "<table border=\"1\" class=\"dataframe\">\n",
       "  <thead>\n",
       "    <tr style=\"text-align: right;\">\n",
       "      <th></th>\n",
       "      <th>is_canceled</th>\n",
       "      <th>lead_time</th>\n",
       "      <th>arrival_date_year</th>\n",
       "      <th>arrival_date_month</th>\n",
       "      <th>arrival_date_week_number</th>\n",
       "      <th>arrival_date_day_of_month</th>\n",
       "      <th>stays_in_weekend_nights</th>\n",
       "      <th>stays_in_week_nights</th>\n",
       "      <th>adults</th>\n",
       "      <th>children</th>\n",
       "      <th>...</th>\n",
       "      <th>reservation_status_date_2017-09-03</th>\n",
       "      <th>reservation_status_date_2017-09-04</th>\n",
       "      <th>reservation_status_date_2017-09-05</th>\n",
       "      <th>reservation_status_date_2017-09-06</th>\n",
       "      <th>reservation_status_date_2017-09-07</th>\n",
       "      <th>reservation_status_date_2017-09-08</th>\n",
       "      <th>reservation_status_date_2017-09-09</th>\n",
       "      <th>reservation_status_date_2017-09-10</th>\n",
       "      <th>reservation_status_date_2017-09-12</th>\n",
       "      <th>reservation_status_date_2017-09-14</th>\n",
       "    </tr>\n",
       "  </thead>\n",
       "  <tbody>\n",
       "    <tr>\n",
       "      <th>3</th>\n",
       "      <td>0</td>\n",
       "      <td>13</td>\n",
       "      <td>2015</td>\n",
       "      <td>5</td>\n",
       "      <td>27</td>\n",
       "      <td>1</td>\n",
       "      <td>0</td>\n",
       "      <td>1</td>\n",
       "      <td>1</td>\n",
       "      <td>0.0</td>\n",
       "      <td>...</td>\n",
       "      <td>0</td>\n",
       "      <td>0</td>\n",
       "      <td>0</td>\n",
       "      <td>0</td>\n",
       "      <td>0</td>\n",
       "      <td>0</td>\n",
       "      <td>0</td>\n",
       "      <td>0</td>\n",
       "      <td>0</td>\n",
       "      <td>0</td>\n",
       "    </tr>\n",
       "    <tr>\n",
       "      <th>4</th>\n",
       "      <td>0</td>\n",
       "      <td>14</td>\n",
       "      <td>2015</td>\n",
       "      <td>5</td>\n",
       "      <td>27</td>\n",
       "      <td>1</td>\n",
       "      <td>0</td>\n",
       "      <td>2</td>\n",
       "      <td>2</td>\n",
       "      <td>0.0</td>\n",
       "      <td>...</td>\n",
       "      <td>0</td>\n",
       "      <td>0</td>\n",
       "      <td>0</td>\n",
       "      <td>0</td>\n",
       "      <td>0</td>\n",
       "      <td>0</td>\n",
       "      <td>0</td>\n",
       "      <td>0</td>\n",
       "      <td>0</td>\n",
       "      <td>0</td>\n",
       "    </tr>\n",
       "    <tr>\n",
       "      <th>5</th>\n",
       "      <td>0</td>\n",
       "      <td>14</td>\n",
       "      <td>2015</td>\n",
       "      <td>5</td>\n",
       "      <td>27</td>\n",
       "      <td>1</td>\n",
       "      <td>0</td>\n",
       "      <td>2</td>\n",
       "      <td>2</td>\n",
       "      <td>0.0</td>\n",
       "      <td>...</td>\n",
       "      <td>0</td>\n",
       "      <td>0</td>\n",
       "      <td>0</td>\n",
       "      <td>0</td>\n",
       "      <td>0</td>\n",
       "      <td>0</td>\n",
       "      <td>0</td>\n",
       "      <td>0</td>\n",
       "      <td>0</td>\n",
       "      <td>0</td>\n",
       "    </tr>\n",
       "    <tr>\n",
       "      <th>7</th>\n",
       "      <td>0</td>\n",
       "      <td>9</td>\n",
       "      <td>2015</td>\n",
       "      <td>5</td>\n",
       "      <td>27</td>\n",
       "      <td>1</td>\n",
       "      <td>0</td>\n",
       "      <td>2</td>\n",
       "      <td>2</td>\n",
       "      <td>0.0</td>\n",
       "      <td>...</td>\n",
       "      <td>0</td>\n",
       "      <td>0</td>\n",
       "      <td>0</td>\n",
       "      <td>0</td>\n",
       "      <td>0</td>\n",
       "      <td>0</td>\n",
       "      <td>0</td>\n",
       "      <td>0</td>\n",
       "      <td>0</td>\n",
       "      <td>0</td>\n",
       "    </tr>\n",
       "    <tr>\n",
       "      <th>8</th>\n",
       "      <td>1</td>\n",
       "      <td>85</td>\n",
       "      <td>2015</td>\n",
       "      <td>5</td>\n",
       "      <td>27</td>\n",
       "      <td>1</td>\n",
       "      <td>0</td>\n",
       "      <td>3</td>\n",
       "      <td>2</td>\n",
       "      <td>0.0</td>\n",
       "      <td>...</td>\n",
       "      <td>0</td>\n",
       "      <td>0</td>\n",
       "      <td>0</td>\n",
       "      <td>0</td>\n",
       "      <td>0</td>\n",
       "      <td>0</td>\n",
       "      <td>0</td>\n",
       "      <td>0</td>\n",
       "      <td>0</td>\n",
       "      <td>0</td>\n",
       "    </tr>\n",
       "  </tbody>\n",
       "</table>\n",
       "<p>5 rows × 1164 columns</p>\n",
       "</div>"
      ],
      "text/plain": [
       "   is_canceled  lead_time  arrival_date_year  arrival_date_month  \\\n",
       "3            0         13               2015                   5   \n",
       "4            0         14               2015                   5   \n",
       "5            0         14               2015                   5   \n",
       "7            0          9               2015                   5   \n",
       "8            1         85               2015                   5   \n",
       "\n",
       "   arrival_date_week_number  arrival_date_day_of_month  \\\n",
       "3                        27                          1   \n",
       "4                        27                          1   \n",
       "5                        27                          1   \n",
       "7                        27                          1   \n",
       "8                        27                          1   \n",
       "\n",
       "   stays_in_weekend_nights  stays_in_week_nights  adults  children  ...  \\\n",
       "3                        0                     1       1       0.0  ...   \n",
       "4                        0                     2       2       0.0  ...   \n",
       "5                        0                     2       2       0.0  ...   \n",
       "7                        0                     2       2       0.0  ...   \n",
       "8                        0                     3       2       0.0  ...   \n",
       "\n",
       "   reservation_status_date_2017-09-03  reservation_status_date_2017-09-04  \\\n",
       "3                                   0                                   0   \n",
       "4                                   0                                   0   \n",
       "5                                   0                                   0   \n",
       "7                                   0                                   0   \n",
       "8                                   0                                   0   \n",
       "\n",
       "   reservation_status_date_2017-09-05  reservation_status_date_2017-09-06  \\\n",
       "3                                   0                                   0   \n",
       "4                                   0                                   0   \n",
       "5                                   0                                   0   \n",
       "7                                   0                                   0   \n",
       "8                                   0                                   0   \n",
       "\n",
       "   reservation_status_date_2017-09-07  reservation_status_date_2017-09-08  \\\n",
       "3                                   0                                   0   \n",
       "4                                   0                                   0   \n",
       "5                                   0                                   0   \n",
       "7                                   0                                   0   \n",
       "8                                   0                                   0   \n",
       "\n",
       "   reservation_status_date_2017-09-09  reservation_status_date_2017-09-10  \\\n",
       "3                                   0                                   0   \n",
       "4                                   0                                   0   \n",
       "5                                   0                                   0   \n",
       "7                                   0                                   0   \n",
       "8                                   0                                   0   \n",
       "\n",
       "   reservation_status_date_2017-09-12  reservation_status_date_2017-09-14  \n",
       "3                                   0                                   0  \n",
       "4                                   0                                   0  \n",
       "5                                   0                                   0  \n",
       "7                                   0                                   0  \n",
       "8                                   0                                   0  \n",
       "\n",
       "[5 rows x 1164 columns]"
      ]
     },
     "execution_count": 18,
     "metadata": {},
     "output_type": "execute_result"
    }
   ],
   "source": [
    "df_one_hot_encoder.head()"
   ]
  },
  {
   "cell_type": "code",
   "execution_count": 19,
   "metadata": {
    "execution": {
     "iopub.execute_input": "2022-03-11T16:48:41.830711Z",
     "iopub.status.busy": "2022-03-11T16:48:41.830025Z",
     "iopub.status.idle": "2022-03-11T16:48:42.298293Z",
     "shell.execute_reply": "2022-03-11T16:48:42.298814Z",
     "shell.execute_reply.started": "2022-03-11T16:43:04.758459Z"
    },
    "papermill": {
     "duration": 0.51083,
     "end_time": "2022-03-11T16:48:42.299015",
     "exception": false,
     "start_time": "2022-03-11T16:48:41.788185",
     "status": "completed"
    },
    "tags": []
   },
   "outputs": [],
   "source": [
    "X_OHE = df_one_hot_encoder.drop('is_canceled',axis=1)\n",
    "y_OHE = df_one_hot_encoder['is_canceled']"
   ]
  },
  {
   "cell_type": "markdown",
   "metadata": {
    "papermill": {
     "duration": 0.037876,
     "end_time": "2022-03-11T16:48:42.375534",
     "exception": false,
     "start_time": "2022-03-11T16:48:42.337658",
     "status": "completed"
    },
    "tags": []
   },
   "source": [
    "#### Use LabelEncoder"
   ]
  },
  {
   "cell_type": "code",
   "execution_count": 20,
   "metadata": {
    "execution": {
     "iopub.execute_input": "2022-03-11T16:48:42.455084Z",
     "iopub.status.busy": "2022-03-11T16:48:42.454447Z",
     "iopub.status.idle": "2022-03-11T16:48:42.457791Z",
     "shell.execute_reply": "2022-03-11T16:48:42.458259Z",
     "shell.execute_reply.started": "2022-03-11T16:43:04.894895Z"
    },
    "papermill": {
     "duration": 0.0448,
     "end_time": "2022-03-11T16:48:42.458402",
     "exception": false,
     "start_time": "2022-03-11T16:48:42.413602",
     "status": "completed"
    },
    "tags": []
   },
   "outputs": [],
   "source": [
    "df_label_encoder = df "
   ]
  },
  {
   "cell_type": "code",
   "execution_count": 21,
   "metadata": {
    "execution": {
     "iopub.execute_input": "2022-03-11T16:48:42.538382Z",
     "iopub.status.busy": "2022-03-11T16:48:42.537643Z",
     "iopub.status.idle": "2022-03-11T16:48:42.541959Z",
     "shell.execute_reply": "2022-03-11T16:48:42.542546Z",
     "shell.execute_reply.started": "2022-03-11T16:43:04.901784Z"
    },
    "papermill": {
     "duration": 0.046075,
     "end_time": "2022-03-11T16:48:42.542717",
     "exception": false,
     "start_time": "2022-03-11T16:48:42.496642",
     "status": "completed"
    },
    "tags": []
   },
   "outputs": [],
   "source": [
    "def label_encoded(feat):\n",
    "    le = LabelEncoder()\n",
    "    le.fit(feat)\n",
    "    return le.transform(feat)"
   ]
  },
  {
   "cell_type": "code",
   "execution_count": 22,
   "metadata": {
    "execution": {
     "iopub.execute_input": "2022-03-11T16:48:42.622599Z",
     "iopub.status.busy": "2022-03-11T16:48:42.621914Z",
     "iopub.status.idle": "2022-03-11T16:48:43.199350Z",
     "shell.execute_reply": "2022-03-11T16:48:43.198723Z",
     "shell.execute_reply.started": "2022-03-11T16:43:04.914638Z"
    },
    "papermill": {
     "duration": 0.618407,
     "end_time": "2022-03-11T16:48:43.199472",
     "exception": false,
     "start_time": "2022-03-11T16:48:42.581065",
     "status": "completed"
    },
    "tags": []
   },
   "outputs": [],
   "source": [
    "for col in df_label_encoder.columns:\n",
    "    if isinstance(df_label_encoder[str(col)],object):\n",
    "        df_label_encoder[str(col)] = label_encoded(df[str(col)])"
   ]
  },
  {
   "cell_type": "code",
   "execution_count": 23,
   "metadata": {
    "execution": {
     "iopub.execute_input": "2022-03-11T16:48:43.281565Z",
     "iopub.status.busy": "2022-03-11T16:48:43.280888Z",
     "iopub.status.idle": "2022-03-11T16:48:43.298662Z",
     "shell.execute_reply": "2022-03-11T16:48:43.299126Z",
     "shell.execute_reply.started": "2022-03-11T16:43:05.531769Z"
    },
    "papermill": {
     "duration": 0.061521,
     "end_time": "2022-03-11T16:48:43.299300",
     "exception": false,
     "start_time": "2022-03-11T16:48:43.237779",
     "status": "completed"
    },
    "tags": []
   },
   "outputs": [
    {
     "data": {
      "text/html": [
       "<div>\n",
       "<style scoped>\n",
       "    .dataframe tbody tr th:only-of-type {\n",
       "        vertical-align: middle;\n",
       "    }\n",
       "\n",
       "    .dataframe tbody tr th {\n",
       "        vertical-align: top;\n",
       "    }\n",
       "\n",
       "    .dataframe thead th {\n",
       "        text-align: right;\n",
       "    }\n",
       "</style>\n",
       "<table border=\"1\" class=\"dataframe\">\n",
       "  <thead>\n",
       "    <tr style=\"text-align: right;\">\n",
       "      <th></th>\n",
       "      <th>hotel</th>\n",
       "      <th>is_canceled</th>\n",
       "      <th>lead_time</th>\n",
       "      <th>arrival_date_year</th>\n",
       "      <th>arrival_date_month</th>\n",
       "      <th>arrival_date_week_number</th>\n",
       "      <th>arrival_date_day_of_month</th>\n",
       "      <th>stays_in_weekend_nights</th>\n",
       "      <th>stays_in_week_nights</th>\n",
       "      <th>adults</th>\n",
       "      <th>...</th>\n",
       "      <th>booking_changes</th>\n",
       "      <th>deposit_type</th>\n",
       "      <th>agent</th>\n",
       "      <th>days_in_waiting_list</th>\n",
       "      <th>customer_type</th>\n",
       "      <th>adr</th>\n",
       "      <th>required_car_parking_spaces</th>\n",
       "      <th>total_of_special_requests</th>\n",
       "      <th>reservation_status</th>\n",
       "      <th>reservation_status_date</th>\n",
       "    </tr>\n",
       "  </thead>\n",
       "  <tbody>\n",
       "    <tr>\n",
       "      <th>3</th>\n",
       "      <td>1</td>\n",
       "      <td>0</td>\n",
       "      <td>13</td>\n",
       "      <td>0</td>\n",
       "      <td>5</td>\n",
       "      <td>26</td>\n",
       "      <td>0</td>\n",
       "      <td>0</td>\n",
       "      <td>1</td>\n",
       "      <td>1</td>\n",
       "      <td>...</td>\n",
       "      <td>0</td>\n",
       "      <td>0</td>\n",
       "      <td>220</td>\n",
       "      <td>0</td>\n",
       "      <td>2</td>\n",
       "      <td>2068</td>\n",
       "      <td>0</td>\n",
       "      <td>0</td>\n",
       "      <td>1</td>\n",
       "      <td>119</td>\n",
       "    </tr>\n",
       "    <tr>\n",
       "      <th>4</th>\n",
       "      <td>1</td>\n",
       "      <td>0</td>\n",
       "      <td>14</td>\n",
       "      <td>0</td>\n",
       "      <td>5</td>\n",
       "      <td>26</td>\n",
       "      <td>0</td>\n",
       "      <td>0</td>\n",
       "      <td>2</td>\n",
       "      <td>2</td>\n",
       "      <td>...</td>\n",
       "      <td>0</td>\n",
       "      <td>0</td>\n",
       "      <td>173</td>\n",
       "      <td>0</td>\n",
       "      <td>2</td>\n",
       "      <td>3447</td>\n",
       "      <td>0</td>\n",
       "      <td>1</td>\n",
       "      <td>1</td>\n",
       "      <td>120</td>\n",
       "    </tr>\n",
       "    <tr>\n",
       "      <th>5</th>\n",
       "      <td>1</td>\n",
       "      <td>0</td>\n",
       "      <td>14</td>\n",
       "      <td>0</td>\n",
       "      <td>5</td>\n",
       "      <td>26</td>\n",
       "      <td>0</td>\n",
       "      <td>0</td>\n",
       "      <td>2</td>\n",
       "      <td>2</td>\n",
       "      <td>...</td>\n",
       "      <td>0</td>\n",
       "      <td>0</td>\n",
       "      <td>173</td>\n",
       "      <td>0</td>\n",
       "      <td>2</td>\n",
       "      <td>3447</td>\n",
       "      <td>0</td>\n",
       "      <td>1</td>\n",
       "      <td>1</td>\n",
       "      <td>120</td>\n",
       "    </tr>\n",
       "    <tr>\n",
       "      <th>7</th>\n",
       "      <td>1</td>\n",
       "      <td>0</td>\n",
       "      <td>9</td>\n",
       "      <td>0</td>\n",
       "      <td>5</td>\n",
       "      <td>26</td>\n",
       "      <td>0</td>\n",
       "      <td>0</td>\n",
       "      <td>2</td>\n",
       "      <td>2</td>\n",
       "      <td>...</td>\n",
       "      <td>0</td>\n",
       "      <td>0</td>\n",
       "      <td>219</td>\n",
       "      <td>0</td>\n",
       "      <td>2</td>\n",
       "      <td>3740</td>\n",
       "      <td>0</td>\n",
       "      <td>1</td>\n",
       "      <td>1</td>\n",
       "      <td>120</td>\n",
       "    </tr>\n",
       "    <tr>\n",
       "      <th>8</th>\n",
       "      <td>1</td>\n",
       "      <td>1</td>\n",
       "      <td>85</td>\n",
       "      <td>0</td>\n",
       "      <td>5</td>\n",
       "      <td>26</td>\n",
       "      <td>0</td>\n",
       "      <td>0</td>\n",
       "      <td>3</td>\n",
       "      <td>2</td>\n",
       "      <td>...</td>\n",
       "      <td>0</td>\n",
       "      <td>0</td>\n",
       "      <td>173</td>\n",
       "      <td>0</td>\n",
       "      <td>2</td>\n",
       "      <td>2488</td>\n",
       "      <td>0</td>\n",
       "      <td>1</td>\n",
       "      <td>0</td>\n",
       "      <td>70</td>\n",
       "    </tr>\n",
       "  </tbody>\n",
       "</table>\n",
       "<p>5 rows × 31 columns</p>\n",
       "</div>"
      ],
      "text/plain": [
       "   hotel  is_canceled  lead_time  arrival_date_year  arrival_date_month  \\\n",
       "3      1            0         13                  0                   5   \n",
       "4      1            0         14                  0                   5   \n",
       "5      1            0         14                  0                   5   \n",
       "7      1            0          9                  0                   5   \n",
       "8      1            1         85                  0                   5   \n",
       "\n",
       "   arrival_date_week_number  arrival_date_day_of_month  \\\n",
       "3                        26                          0   \n",
       "4                        26                          0   \n",
       "5                        26                          0   \n",
       "7                        26                          0   \n",
       "8                        26                          0   \n",
       "\n",
       "   stays_in_weekend_nights  stays_in_week_nights  adults  ...  \\\n",
       "3                        0                     1       1  ...   \n",
       "4                        0                     2       2  ...   \n",
       "5                        0                     2       2  ...   \n",
       "7                        0                     2       2  ...   \n",
       "8                        0                     3       2  ...   \n",
       "\n",
       "   booking_changes  deposit_type  agent  days_in_waiting_list  customer_type  \\\n",
       "3                0             0    220                     0              2   \n",
       "4                0             0    173                     0              2   \n",
       "5                0             0    173                     0              2   \n",
       "7                0             0    219                     0              2   \n",
       "8                0             0    173                     0              2   \n",
       "\n",
       "    adr  required_car_parking_spaces  total_of_special_requests  \\\n",
       "3  2068                            0                          0   \n",
       "4  3447                            0                          1   \n",
       "5  3447                            0                          1   \n",
       "7  3740                            0                          1   \n",
       "8  2488                            0                          1   \n",
       "\n",
       "   reservation_status  reservation_status_date  \n",
       "3                   1                      119  \n",
       "4                   1                      120  \n",
       "5                   1                      120  \n",
       "7                   1                      120  \n",
       "8                   0                       70  \n",
       "\n",
       "[5 rows x 31 columns]"
      ]
     },
     "execution_count": 23,
     "metadata": {},
     "output_type": "execute_result"
    }
   ],
   "source": [
    "df_label_encoder.head()"
   ]
  },
  {
   "cell_type": "code",
   "execution_count": 24,
   "metadata": {
    "execution": {
     "iopub.execute_input": "2022-03-11T16:48:43.383407Z",
     "iopub.status.busy": "2022-03-11T16:48:43.382666Z",
     "iopub.status.idle": "2022-03-11T16:48:43.427964Z",
     "shell.execute_reply": "2022-03-11T16:48:43.427176Z",
     "shell.execute_reply.started": "2022-03-11T16:43:05.560218Z"
    },
    "papermill": {
     "duration": 0.089002,
     "end_time": "2022-03-11T16:48:43.428097",
     "exception": false,
     "start_time": "2022-03-11T16:48:43.339095",
     "status": "completed"
    },
    "tags": []
   },
   "outputs": [],
   "source": [
    "X_LE = df_label_encoder.drop('is_canceled',axis=1)\n",
    "y_LE = df_label_encoder['is_canceled']"
   ]
  },
  {
   "cell_type": "code",
   "execution_count": 25,
   "metadata": {
    "execution": {
     "iopub.execute_input": "2022-03-11T16:48:43.513242Z",
     "iopub.status.busy": "2022-03-11T16:48:43.512551Z",
     "iopub.status.idle": "2022-03-11T16:48:44.088345Z",
     "shell.execute_reply": "2022-03-11T16:48:44.087698Z",
     "shell.execute_reply.started": "2022-03-11T16:43:05.583842Z"
    },
    "papermill": {
     "duration": 0.621012,
     "end_time": "2022-03-11T16:48:44.088495",
     "exception": false,
     "start_time": "2022-03-11T16:48:43.467483",
     "status": "completed"
    },
    "tags": []
   },
   "outputs": [],
   "source": [
    "from sklearn.model_selection import train_test_split\n",
    "\n",
    "X_train_OHE, X_test_OHE, y_train_OHE, y_test_OHE = train_test_split(\n",
    "    X_OHE, y_OHE, test_size=0.4, random_state=42)"
   ]
  },
  {
   "cell_type": "code",
   "execution_count": 26,
   "metadata": {
    "execution": {
     "iopub.execute_input": "2022-03-11T16:48:44.175425Z",
     "iopub.status.busy": "2022-03-11T16:48:44.174580Z",
     "iopub.status.idle": "2022-03-11T16:48:44.226018Z",
     "shell.execute_reply": "2022-03-11T16:48:44.225360Z",
     "shell.execute_reply.started": "2022-03-11T16:43:05.961488Z"
    },
    "papermill": {
     "duration": 0.098036,
     "end_time": "2022-03-11T16:48:44.226165",
     "exception": false,
     "start_time": "2022-03-11T16:48:44.128129",
     "status": "completed"
    },
    "tags": []
   },
   "outputs": [],
   "source": [
    "X_train_LE, X_test_LE, y_train_LE, y_test_LE = train_test_split(\n",
    "    X_LE, y_LE, test_size=0.4, random_state=42)"
   ]
  },
  {
   "cell_type": "markdown",
   "metadata": {
    "papermill": {
     "duration": 0.039193,
     "end_time": "2022-03-11T16:48:44.305031",
     "exception": false,
     "start_time": "2022-03-11T16:48:44.265838",
     "status": "completed"
    },
    "tags": []
   },
   "source": [
    "# Building The Model Using RF"
   ]
  },
  {
   "cell_type": "code",
   "execution_count": 27,
   "metadata": {
    "execution": {
     "iopub.execute_input": "2022-03-11T16:48:44.390004Z",
     "iopub.status.busy": "2022-03-11T16:48:44.389249Z",
     "iopub.status.idle": "2022-03-11T16:48:44.570059Z",
     "shell.execute_reply": "2022-03-11T16:48:44.569325Z",
     "shell.execute_reply.started": "2022-03-11T16:43:06.002260Z"
    },
    "papermill": {
     "duration": 0.2258,
     "end_time": "2022-03-11T16:48:44.570223",
     "exception": false,
     "start_time": "2022-03-11T16:48:44.344423",
     "status": "completed"
    },
    "tags": []
   },
   "outputs": [],
   "source": [
    "from sklearn.ensemble import RandomForestClassifier\n",
    "model_OHE = RandomForestClassifier(n_estimators=400)"
   ]
  },
  {
   "cell_type": "code",
   "execution_count": 28,
   "metadata": {
    "execution": {
     "iopub.execute_input": "2022-03-11T16:48:44.655759Z",
     "iopub.status.busy": "2022-03-11T16:48:44.655019Z",
     "iopub.status.idle": "2022-03-11T16:50:22.637721Z",
     "shell.execute_reply": "2022-03-11T16:50:22.638337Z",
     "shell.execute_reply.started": "2022-03-11T16:43:06.210964Z"
    },
    "papermill": {
     "duration": 98.027956,
     "end_time": "2022-03-11T16:50:22.638545",
     "exception": false,
     "start_time": "2022-03-11T16:48:44.610589",
     "status": "completed"
    },
    "tags": []
   },
   "outputs": [
    {
     "data": {
      "text/plain": [
       "RandomForestClassifier(n_estimators=400)"
      ]
     },
     "execution_count": 28,
     "metadata": {},
     "output_type": "execute_result"
    }
   ],
   "source": [
    "model_OHE.fit(X_train_OHE,y_train_OHE)"
   ]
  },
  {
   "cell_type": "code",
   "execution_count": 29,
   "metadata": {
    "execution": {
     "iopub.execute_input": "2022-03-11T16:50:22.732349Z",
     "iopub.status.busy": "2022-03-11T16:50:22.722902Z",
     "iopub.status.idle": "2022-03-11T16:50:27.598925Z",
     "shell.execute_reply": "2022-03-11T16:50:27.598080Z",
     "shell.execute_reply.started": "2022-03-11T16:44:12.342868Z"
    },
    "papermill": {
     "duration": 4.920882,
     "end_time": "2022-03-11T16:50:27.599070",
     "exception": false,
     "start_time": "2022-03-11T16:50:22.678188",
     "status": "completed"
    },
    "tags": []
   },
   "outputs": [],
   "source": [
    "y_pred_OHE = model_OHE.predict(X_test_OHE)"
   ]
  },
  {
   "cell_type": "code",
   "execution_count": 30,
   "metadata": {
    "execution": {
     "iopub.execute_input": "2022-03-11T16:50:27.687236Z",
     "iopub.status.busy": "2022-03-11T16:50:27.686471Z",
     "iopub.status.idle": "2022-03-11T16:50:27.696558Z",
     "shell.execute_reply": "2022-03-11T16:50:27.695935Z",
     "shell.execute_reply.started": "2022-03-11T16:44:16.424202Z"
    },
    "papermill": {
     "duration": 0.056659,
     "end_time": "2022-03-11T16:50:27.696699",
     "exception": false,
     "start_time": "2022-03-11T16:50:27.640040",
     "status": "completed"
    },
    "tags": []
   },
   "outputs": [
    {
     "data": {
      "text/plain": [
       "1.0"
      ]
     },
     "execution_count": 30,
     "metadata": {},
     "output_type": "execute_result"
    }
   ],
   "source": [
    "from sklearn.metrics import accuracy_score,confusion_matrix\n",
    "accuracy_score(y_test_OHE,y_pred_OHE)"
   ]
  },
  {
   "cell_type": "code",
   "execution_count": 31,
   "metadata": {
    "execution": {
     "iopub.execute_input": "2022-03-11T16:50:27.784484Z",
     "iopub.status.busy": "2022-03-11T16:50:27.783716Z",
     "iopub.status.idle": "2022-03-11T16:50:27.853405Z",
     "shell.execute_reply": "2022-03-11T16:50:27.852633Z",
     "shell.execute_reply.started": "2022-03-11T16:44:16.436526Z"
    },
    "papermill": {
     "duration": 0.115576,
     "end_time": "2022-03-11T16:50:27.853556",
     "exception": false,
     "start_time": "2022-03-11T16:50:27.737980",
     "status": "completed"
    },
    "tags": []
   },
   "outputs": [
    {
     "data": {
      "text/plain": [
       "array([[25062,     0],\n",
       "       [    0, 16158]])"
      ]
     },
     "execution_count": 31,
     "metadata": {},
     "output_type": "execute_result"
    }
   ],
   "source": [
    "confusion_matrix(y_test_OHE,y_pred_OHE)"
   ]
  },
  {
   "cell_type": "code",
   "execution_count": 32,
   "metadata": {
    "execution": {
     "iopub.execute_input": "2022-03-11T16:50:27.945242Z",
     "iopub.status.busy": "2022-03-11T16:50:27.944065Z",
     "iopub.status.idle": "2022-03-11T16:50:27.946757Z",
     "shell.execute_reply": "2022-03-11T16:50:27.947409Z",
     "shell.execute_reply.started": "2022-03-11T16:44:16.513314Z"
    },
    "papermill": {
     "duration": 0.051182,
     "end_time": "2022-03-11T16:50:27.947581",
     "exception": false,
     "start_time": "2022-03-11T16:50:27.896399",
     "status": "completed"
    },
    "tags": []
   },
   "outputs": [],
   "source": [
    "model_LE = RandomForestClassifier(n_estimators=400)"
   ]
  },
  {
   "cell_type": "code",
   "execution_count": 33,
   "metadata": {
    "execution": {
     "iopub.execute_input": "2022-03-11T16:50:28.034468Z",
     "iopub.status.busy": "2022-03-11T16:50:28.033386Z",
     "iopub.status.idle": "2022-03-11T16:50:48.619427Z",
     "shell.execute_reply": "2022-03-11T16:50:48.618076Z",
     "shell.execute_reply.started": "2022-03-11T16:44:16.518082Z"
    },
    "papermill": {
     "duration": 20.631577,
     "end_time": "2022-03-11T16:50:48.619594",
     "exception": false,
     "start_time": "2022-03-11T16:50:27.988017",
     "status": "completed"
    },
    "tags": []
   },
   "outputs": [
    {
     "data": {
      "text/plain": [
       "RandomForestClassifier(n_estimators=400)"
      ]
     },
     "execution_count": 33,
     "metadata": {},
     "output_type": "execute_result"
    }
   ],
   "source": [
    "model_LE.fit(X_train_LE,y_train_LE)"
   ]
  },
  {
   "cell_type": "code",
   "execution_count": 34,
   "metadata": {
    "execution": {
     "iopub.execute_input": "2022-03-11T16:50:48.711773Z",
     "iopub.status.busy": "2022-03-11T16:50:48.710987Z",
     "iopub.status.idle": "2022-03-11T16:50:50.635502Z",
     "shell.execute_reply": "2022-03-11T16:50:50.634839Z"
    },
    "papermill": {
     "duration": 1.974007,
     "end_time": "2022-03-11T16:50:50.635649",
     "exception": false,
     "start_time": "2022-03-11T16:50:48.661642",
     "status": "completed"
    },
    "tags": []
   },
   "outputs": [],
   "source": [
    "y_pred_LE = model_LE.predict(X_test_LE)"
   ]
  },
  {
   "cell_type": "code",
   "execution_count": 35,
   "metadata": {
    "execution": {
     "iopub.execute_input": "2022-03-11T16:50:50.727104Z",
     "iopub.status.busy": "2022-03-11T16:50:50.725845Z",
     "iopub.status.idle": "2022-03-11T16:50:50.737749Z",
     "shell.execute_reply": "2022-03-11T16:50:50.737113Z"
    },
    "papermill": {
     "duration": 0.059166,
     "end_time": "2022-03-11T16:50:50.737895",
     "exception": false,
     "start_time": "2022-03-11T16:50:50.678729",
     "status": "completed"
    },
    "tags": []
   },
   "outputs": [
    {
     "data": {
      "text/plain": [
       "1.0"
      ]
     },
     "execution_count": 35,
     "metadata": {},
     "output_type": "execute_result"
    }
   ],
   "source": [
    "accuracy_score(y_test_LE,y_pred_LE)"
   ]
  },
  {
   "cell_type": "code",
   "execution_count": 36,
   "metadata": {
    "execution": {
     "iopub.execute_input": "2022-03-11T16:50:50.831073Z",
     "iopub.status.busy": "2022-03-11T16:50:50.830383Z",
     "iopub.status.idle": "2022-03-11T16:50:50.898986Z",
     "shell.execute_reply": "2022-03-11T16:50:50.898186Z"
    },
    "papermill": {
     "duration": 0.116426,
     "end_time": "2022-03-11T16:50:50.899215",
     "exception": false,
     "start_time": "2022-03-11T16:50:50.782789",
     "status": "completed"
    },
    "tags": []
   },
   "outputs": [
    {
     "data": {
      "text/plain": [
       "array([[25062,     0],\n",
       "       [    0, 16158]])"
      ]
     },
     "execution_count": 36,
     "metadata": {},
     "output_type": "execute_result"
    }
   ],
   "source": [
    "confusion_matrix(y_test_LE,y_pred_LE)"
   ]
  },
  {
   "cell_type": "code",
   "execution_count": null,
   "metadata": {
    "papermill": {
     "duration": 0.043124,
     "end_time": "2022-03-11T16:50:50.985559",
     "exception": false,
     "start_time": "2022-03-11T16:50:50.942435",
     "status": "completed"
    },
    "tags": []
   },
   "outputs": [],
   "source": []
  }
 ],
 "metadata": {
  "kernelspec": {
   "display_name": "Python 3",
   "language": "python",
   "name": "python3"
  },
  "language_info": {
   "codemirror_mode": {
    "name": "ipython",
    "version": 3
   },
   "file_extension": ".py",
   "mimetype": "text/x-python",
   "name": "python",
   "nbconvert_exporter": "python",
   "pygments_lexer": "ipython3",
   "version": "3.7.6"
  },
  "papermill": {
   "duration": 139.481499,
   "end_time": "2022-03-11T16:50:51.136748",
   "environment_variables": {},
   "exception": null,
   "input_path": "__notebook__.ipynb",
   "output_path": "__notebook__.ipynb",
   "parameters": {},
   "start_time": "2022-03-11T16:48:31.655249",
   "version": "2.1.0"
  }
 },
 "nbformat": 4,
 "nbformat_minor": 4
}
